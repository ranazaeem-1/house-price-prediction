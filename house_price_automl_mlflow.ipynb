{
 "cells": [
  {
   "cell_type": "markdown",
   "id": "0719110f",
   "metadata": {},
   "source": [
    "# House Price Prediction - AutoML with MLflow\n",
    "\n",
    "This notebook trains 3 different AutoML models for house price prediction:\n",
    "1. **XGBoost** with GridSearchCV\n",
    "2. **LightGBM** with RandomizedSearchCV  \n",
    "3. **Random Forest** with GridSearchCV\n",
    "\n",
    "All models are tracked using MLflow and saved for deployment in a Streamlit app."
   ]
  },
  {
   "cell_type": "code",
   "execution_count": null,
   "id": "565e1f22",
   "metadata": {},
   "outputs": [
    {
     "name": "stdout",
     "output_type": "stream",
     "text": [
      "All packages installed successfully!\n"
     ]
    }
   ],
   "source": [
    "# Setup and Data Preparation\n",
    "import pandas as pd\n",
    "import numpy as np\n",
    "import matplotlib.pyplot as plt\n",
    "import seaborn as sns\n",
    "from sklearn.model_selection import train_test_split, GridSearchCV, RandomizedSearchCV\n",
    "from sklearn.preprocessing import StandardScaler, LabelEncoder\n",
    "from sklearn.ensemble import RandomForestRegressor\n",
    "from sklearn.metrics import mean_squared_error, r2_score, mean_absolute_error\n",
    "import joblib\n",
    "import os\n",
    "import warnings\n",
    "warnings.filterwarnings('ignore')\n",
    "\n",
    "# Install required packages\n",
    "!pip install mlflow xgboost lightgbm\n",
    "\n",
    "import mlflow\n",
    "import mlflow.sklearn\n",
    "from mlflow.models.signature import infer_signature\n",
    "import xgboost as xgb\n",
    "import lightgbm as lgb\n",
    "from scipy.stats import randint, uniform\n",
    "\n",
    "print(\"All packages installed successfully!\")"
   ]
  },
  {
   "cell_type": "code",
   "execution_count": 2,
   "id": "7b53d3fb",
   "metadata": {},
   "outputs": [
    {
     "name": "stdout",
     "output_type": "stream",
     "text": [
      "Dataset loaded: (2000, 10)\n",
      "Columns: ['Id', 'Area', 'Bedrooms', 'Bathrooms', 'Floors', 'YearBuilt', 'Location', 'Condition', 'Garage', 'Price']\n",
      "Processed data shape: (2000, 17)\n",
      "Training set: (1600, 14), Test set: (400, 14)\n",
      "Features: 14\n"
     ]
    }
   ],
   "source": [
    "# Load and prepare data\n",
    "df = pd.read_csv('House Price Prediction Dataset.csv')\n",
    "print(f\"Dataset loaded: {df.shape}\")\n",
    "print(f\"Columns: {df.columns.tolist()}\")\n",
    "\n",
    "# Data preprocessing\n",
    "def prepare_data(df):\n",
    "    df_clean = df.copy()\n",
    "    \n",
    "    # Remove outliers using IQR method\n",
    "    Q1 = df_clean['Price'].quantile(0.25)\n",
    "    Q3 = df_clean['Price'].quantile(0.75)\n",
    "    IQR = Q3 - Q1\n",
    "    df_clean = df_clean[(df_clean['Price'] >= Q1 - 1.5 * IQR) & \n",
    "                       (df_clean['Price'] <= Q3 + 1.5 * IQR)]\n",
    "    \n",
    "    # Feature engineering\n",
    "    current_year = 2023\n",
    "    df_clean['Age'] = current_year - df_clean['YearBuilt']\n",
    "    df_clean['PricePerSqFt'] = df_clean['Price'] / df_clean['Area']\n",
    "    df_clean['TotalRooms'] = df_clean['Bedrooms'] + df_clean['Bathrooms']\n",
    "    \n",
    "    # Encode categorical variables\n",
    "    categorical_cols = ['Location', 'Condition', 'Garage']\n",
    "    df_encoded = pd.get_dummies(df_clean, columns=categorical_cols, drop_first=True)\n",
    "    \n",
    "    return df_encoded\n",
    "\n",
    "# Prepare data\n",
    "df_processed = prepare_data(df)\n",
    "print(f\"Processed data shape: {df_processed.shape}\")\n",
    "\n",
    "# Features and target\n",
    "X = df_processed.drop(['Id', 'Price', 'YearBuilt'], axis=1)\n",
    "y = df_processed['Price']\n",
    "\n",
    "# Train-test split\n",
    "X_train, X_test, y_train, y_test = train_test_split(X, y, test_size=0.2, random_state=42)\n",
    "print(f\"Training set: {X_train.shape}, Test set: {X_test.shape}\")\n",
    "\n",
    "# Save feature names for later use\n",
    "feature_names = X.columns.tolist()\n",
    "print(f\"Features: {len(feature_names)}\")"
   ]
  },
  {
   "cell_type": "code",
   "execution_count": 3,
   "id": "e33c553a",
   "metadata": {},
   "outputs": [
    {
     "name": "stdout",
     "output_type": "stream",
     "text": [
      "MLflow tracking URI: file:./mlruns\n",
      "MLflow experiment: house-price-automl\n",
      "MLflow setup complete!\n"
     ]
    }
   ],
   "source": [
    "# MLflow Setup\n",
    "mlflow.set_tracking_uri(\"file:./mlruns\")\n",
    "mlflow.set_experiment(\"house-price-automl\")\n",
    "\n",
    "print(f\"MLflow tracking URI: {mlflow.get_tracking_uri()}\")\n",
    "print(f\"MLflow experiment: house-price-automl\")\n",
    "\n",
    "# Create models directory\n",
    "os.makedirs(\"models\", exist_ok=True)\n",
    "\n",
    "# Helper function for model evaluation and logging\n",
    "def evaluate_and_log_model(model, model_name, X_train, y_train, X_test, y_test, params=None):\n",
    "    with mlflow.start_run(run_name=model_name):\n",
    "        # Train model\n",
    "        model.fit(X_train, y_train)\n",
    "        \n",
    "        # Predictions\n",
    "        y_pred = model.predict(X_test)\n",
    "        \n",
    "        # Calculate metrics\n",
    "        mse = mean_squared_error(y_test, y_pred)\n",
    "        rmse = np.sqrt(mse)\n",
    "        r2 = r2_score(y_test, y_pred)\n",
    "        mae = mean_absolute_error(y_test, y_pred)\n",
    "        \n",
    "        # Log parameters\n",
    "        if params:\n",
    "            mlflow.log_params(params)\n",
    "        \n",
    "        # Log metrics\n",
    "        mlflow.log_metrics({\n",
    "            \"mse\": mse,\n",
    "            \"rmse\": rmse,\n",
    "            \"r2\": r2,\n",
    "            \"mae\": mae\n",
    "        })\n",
    "        \n",
    "        # Log model\n",
    "        signature = infer_signature(X_test, y_pred)\n",
    "        mlflow.sklearn.log_model(model, \"model\", signature=signature)\n",
    "        \n",
    "        # Print results\n",
    "        print(f\"\\n{model_name} Results:\")\n",
    "        print(f\"MSE: {mse:.2f}\")\n",
    "        print(f\"RMSE: {rmse:.2f}\")\n",
    "        print(f\"R²: {r2:.4f}\")\n",
    "        print(f\"MAE: {mae:.2f}\")\n",
    "        \n",
    "        return {\n",
    "            \"model\": model,\n",
    "            \"mse\": mse,\n",
    "            \"rmse\": rmse,\n",
    "            \"r2\": r2,\n",
    "            \"mae\": mae,\n",
    "            \"run_id\": mlflow.active_run().info.run_id\n",
    "        }\n",
    "\n",
    "print(\"MLflow setup complete!\")"
   ]
  },
  {
   "cell_type": "code",
   "execution_count": 4,
   "id": "4b378487",
   "metadata": {},
   "outputs": [
    {
     "name": "stdout",
     "output_type": "stream",
     "text": [
      "Training Model 1: XGBoost with GridSearchCV\n"
     ]
    },
    {
     "name": "stderr",
     "output_type": "stream",
     "text": [
      "2025/06/29 03:35:45 WARNING mlflow.models.model: `artifact_path` is deprecated. Please use `name` instead.\n"
     ]
    },
    {
     "name": "stdout",
     "output_type": "stream",
     "text": [
      "\n",
      "XGBoost_AutoML Results:\n",
      "MSE: 231013834.25\n",
      "RMSE: 15199.14\n",
      "R²: 0.9970\n",
      "MAE: 10807.18\n",
      "XGBoost model saved!\n"
     ]
    }
   ],
   "source": [
    "# Model 1: XGBoost with GridSearchCV\n",
    "print(\"Training Model 1: XGBoost with GridSearchCV\")\n",
    "\n",
    "xgb_params = {\n",
    "    'n_estimators': [100, 200, 300],\n",
    "    'learning_rate': [0.01, 0.1, 0.2],\n",
    "    'max_depth': [3, 5, 7],\n",
    "    'subsample': [0.8, 0.9, 1.0]\n",
    "}\n",
    "\n",
    "xgb_model = xgb.XGBRegressor(random_state=42, n_jobs=-1)\n",
    "xgb_grid = GridSearchCV(xgb_model, xgb_params, cv=3, scoring='neg_mean_squared_error', n_jobs=-1)\n",
    "\n",
    "# Train and evaluate\n",
    "xgb_grid.fit(X_train, y_train)\n",
    "best_xgb = xgb_grid.best_estimator_\n",
    "\n",
    "xgb_results = evaluate_and_log_model(\n",
    "    best_xgb, \"XGBoost_AutoML\", X_train, y_train, X_test, y_test, \n",
    "    params=xgb_grid.best_params_\n",
    ")\n",
    "\n",
    "# Save model\n",
    "joblib.dump(best_xgb, \"models/xgboost_model.pkl\")\n",
    "print(\"XGBoost model saved!\")"
   ]
  },
  {
   "cell_type": "code",
   "execution_count": 5,
   "id": "e03dd8d5",
   "metadata": {},
   "outputs": [
    {
     "name": "stdout",
     "output_type": "stream",
     "text": [
      "Training Model 2: LightGBM with RandomizedSearchCV\n"
     ]
    },
    {
     "name": "stderr",
     "output_type": "stream",
     "text": [
      "2025/06/29 03:36:05 WARNING mlflow.models.model: `artifact_path` is deprecated. Please use `name` instead.\n",
      "2025/06/29 03:36:10 WARNING mlflow.utils.environment: Encountered an unexpected error while inferring pip requirements (model URI: C:\\Users\\786\\AppData\\Local\\Temp\\tmpslqjxzvq\\model\\model.pkl, flavor: sklearn). Fall back to return ['scikit-learn==1.4.2', 'cloudpickle==3.1.1']. Set logging level to DEBUG to see the full traceback. \n"
     ]
    },
    {
     "name": "stdout",
     "output_type": "stream",
     "text": [
      "\n",
      "LightGBM_AutoML Results:\n",
      "MSE: 230947132.09\n",
      "RMSE: 15196.94\n",
      "R²: 0.9970\n",
      "MAE: 11228.60\n",
      "LightGBM model saved!\n"
     ]
    }
   ],
   "source": [
    "# Model 2: LightGBM with RandomizedSearchCV\n",
    "print(\"Training Model 2: LightGBM with RandomizedSearchCV\")\n",
    "\n",
    "lgb_params = {\n",
    "    'n_estimators': randint(100, 500),\n",
    "    'learning_rate': uniform(0.01, 0.19),\n",
    "    'max_depth': randint(3, 10),\n",
    "    'num_leaves': randint(20, 100),\n",
    "    'subsample': uniform(0.7, 0.3)\n",
    "}\n",
    "\n",
    "lgb_model = lgb.LGBMRegressor(random_state=42, n_jobs=-1, verbose=-1)\n",
    "lgb_search = RandomizedSearchCV(lgb_model, lgb_params, n_iter=20, cv=3, \n",
    "                               scoring='neg_mean_squared_error', n_jobs=-1, random_state=42)\n",
    "\n",
    "# Train and evaluate\n",
    "lgb_search.fit(X_train, y_train)\n",
    "best_lgb = lgb_search.best_estimator_\n",
    "\n",
    "lgb_results = evaluate_and_log_model(\n",
    "    best_lgb, \"LightGBM_AutoML\", X_train, y_train, X_test, y_test,\n",
    "    params=lgb_search.best_params_\n",
    ")\n",
    "\n",
    "# Save model\n",
    "joblib.dump(best_lgb, \"models/lightgbm_model.pkl\")\n",
    "print(\"LightGBM model saved!\")"
   ]
  },
  {
   "cell_type": "code",
   "execution_count": 6,
   "id": "a1e54ea5",
   "metadata": {},
   "outputs": [
    {
     "name": "stdout",
     "output_type": "stream",
     "text": [
      "Training Model 3: Random Forest with GridSearchCV\n"
     ]
    },
    {
     "name": "stderr",
     "output_type": "stream",
     "text": [
      "2025/06/29 03:37:23 WARNING mlflow.models.model: `artifact_path` is deprecated. Please use `name` instead.\n"
     ]
    },
    {
     "name": "stdout",
     "output_type": "stream",
     "text": [
      "\n",
      "RandomForest_AutoML Results:\n",
      "MSE: 292540655.06\n",
      "RMSE: 17103.82\n",
      "R²: 0.9962\n",
      "MAE: 11500.97\n",
      "Random Forest model saved!\n"
     ]
    }
   ],
   "source": [
    "# Model 3: Random Forest with GridSearchCV\n",
    "print(\"Training Model 3: Random Forest with GridSearchCV\")\n",
    "\n",
    "rf_params = {\n",
    "    'n_estimators': [100, 200, 300],\n",
    "    'max_depth': [10, 20, 30, None],\n",
    "    'min_samples_split': [2, 5, 10],\n",
    "    'min_samples_leaf': [1, 2, 4]\n",
    "}\n",
    "\n",
    "rf_model = RandomForestRegressor(random_state=42, n_jobs=-1)\n",
    "rf_grid = GridSearchCV(rf_model, rf_params, cv=3, scoring='neg_mean_squared_error', n_jobs=-1)\n",
    "\n",
    "# Train and evaluate\n",
    "rf_grid.fit(X_train, y_train)\n",
    "best_rf = rf_grid.best_estimator_\n",
    "\n",
    "rf_results = evaluate_and_log_model(\n",
    "    best_rf, \"RandomForest_AutoML\", X_train, y_train, X_test, y_test,\n",
    "    params=rf_grid.best_params_\n",
    ")\n",
    "\n",
    "# Save model\n",
    "joblib.dump(best_rf, \"models/randomforest_model.pkl\")\n",
    "print(\"Random Forest model saved!\")"
   ]
  },
  {
   "cell_type": "code",
   "execution_count": null,
   "id": "a429138b",
   "metadata": {},
   "outputs": [
    {
     "name": "stdout",
     "output_type": "stream",
     "text": [
      "\n",
      "Model Comparison:\n",
      "          Model           MSE          RMSE        R²           MAE\n",
      "1      LightGBM  2.309471e+08  15196.944827  0.997031  11228.603188\n",
      "0       XGBoost  2.310138e+08  15199.139260  0.997031  10807.176777\n",
      "2  RandomForest  2.925407e+08  17103.819897  0.996240  11500.974892\n",
      "\n",
      "All models trained and saved successfully!\n",
      "Files saved:\n",
      "- models/xgboost_model.pkl\n",
      "- models/lightgbm_model.pkl\n",
      "- models/randomforest_model.pkl\n",
      "- models/model_comparison.csv\n",
      "- models/feature_names.txt\n",
      "- models/data_info.json\n"
     ]
    }
   ],
   "source": [
    "# Model Comparison and Summary\n",
    "models_results = {\n",
    "    \"XGBoost\": xgb_results,\n",
    "    \"LightGBM\": lgb_results,\n",
    "    \"RandomForest\": rf_results\n",
    "}\n",
    "\n",
    "# Create comparison DataFrame\n",
    "comparison_data = []\n",
    "for name, results in models_results.items():\n",
    "    comparison_data.append({\n",
    "        'Model': name,\n",
    "        'MSE': results['mse'],\n",
    "        'RMSE': results['rmse'],\n",
    "        'R²': results['r2'],\n",
    "        'MAE': results['mae']\n",
    "    })\n",
    "\n",
    "comparison_df = pd.DataFrame(comparison_data)\n",
    "print(\"\\nModel Comparison:\")\n",
    "print(comparison_df.sort_values('RMSE'))\n",
    "\n",
    "# Save comparison results\n",
    "comparison_df.to_csv(\"models/model_comparison.csv\", index=False)\n",
    "\n",
    "# Save feature names\n",
    "with open(\"models/feature_names.txt\", \"w\") as f:\n",
    "    for feature in feature_names:\n",
    "        f.write(f\"{feature}\\n\")\n",
    "\n",
    "# Save data info for the app\n",
    "data_info = {\n",
    "    'feature_names': feature_names,\n",
    "    'target_name': 'Price',\n",
    "    'feature_ranges': {col: {'min': float(X[col].min()), 'max': float(X[col].max())} \n",
    "                      for col in feature_names}\n",
    "}\n",
    "\n",
    "import json\n",
    "with open(\"models/data_info.json\", \"w\") as f:\n",
    "    json.dump(data_info, f)\n",
    "\n",
    "print(\"\\nAll models trained and saved successfully!\")\n",
    "print(\"Files saved:\")\n",
    "print(\"- models/xgboost_model.pkl\")\n",
    "print(\"- models/lightgbm_model.pkl\") \n",
    "print(\"- models/randomforest_model.pkl\")\n",
    "print(\"- models/model_comparison.csv\")\n",
    "print(\"- models/feature_names.txt\")\n",
    "print(\"- models/data_info.json\")"
   ]
  },
  {
   "cell_type": "markdown",
   "id": "aaa9ceb2",
   "metadata": {},
   "source": [
    "## Summary\n",
    "\n",
    "Successfully trained 3 AutoML models:\n",
    "\n",
    "1. **XGBoost** - Gradient boosting with grid search optimization\n",
    "2. **LightGBM** - Fast gradient boosting with randomized search  \n",
    "3. **Random Forest** - Ensemble method with grid search\n",
    "\n",
    "All models are:\n",
    "- ✅ Trained with hyperparameter tuning\n",
    "- ✅ Tracked in MLflow\n",
    "- ✅ Saved as pickle files\n",
    "- ✅ Ready for deployment\n",
    "\n",
    "Next step: Run the Streamlit app (`app.py`) for interactive predictions and model comparison!"
   ]
  }
 ],
 "metadata": {
  "kernelspec": {
   "display_name": "Python 3",
   "language": "python",
   "name": "python3"
  },
  "language_info": {
   "codemirror_mode": {
    "name": "ipython",
    "version": 3
   },
   "file_extension": ".py",
   "mimetype": "text/x-python",
   "name": "python",
   "nbconvert_exporter": "python",
   "pygments_lexer": "ipython3",
   "version": "3.11.9"
  }
 },
 "nbformat": 4,
 "nbformat_minor": 5
}
